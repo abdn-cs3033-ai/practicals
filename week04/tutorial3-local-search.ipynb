{
 "cells": [
  {
   "cell_type": "markdown",
   "metadata": {},
   "source": [
    "[![Open In Colab](https://colab.research.google.com/assets/colab-badge.svg)](https://colab.research.google.com/github/abdn-cs3033-ai/practicals/blob/main/week04/tutorial3-local-search.ipynb)"
   ]
  },
  {
   "cell_type": "markdown",
   "metadata": {},
   "source": [
    "# CS3033: Artificial Intelligence\n",
    "\n",
    "## Tutorial 03: Local Search Algorithms\n",
    "\n",
    "#### Prof. Felipe Meneguzzi"
   ]
  },
  {
   "cell_type": "markdown",
   "metadata": {},
   "source": [
    "In order to run this tutorial, you need to download the auxiliary files from Github into your notebook, which we do with Jupyter's shell commands (if you downloaded the entire repo, the code below is not necessary)."
   ]
  },
  {
   "cell_type": "code",
   "execution_count": null,
   "metadata": {},
   "outputs": [],
   "source": [
    "try:\n",
    "    import google.colab\n",
    "    print(\"We are in Google colab, we need to clone the repo\")\n",
    "    !git clone https://github.com/abdn-cs3033-ai/practicals.git\n",
    "    %cd practicals/week04\n",
    "except:\n",
    "    print(\"Not in colab\")"
   ]
  },
  {
   "cell_type": "markdown",
   "metadata": {},
   "source": [
    "## N-Queens\n",
    "\n",
    "[N-Queens Problem](https://en.wikipedia.org/wiki/Eight_queens_puzzle) is the problem of placing $n$ chess queens on an chessboard so that no two queens threaten each other; thus, a solution requires that no two queens share the same row, column, or diagonal. The problem is to put $n$ non-attacking queens on an $n \\times n$ chessboard, for which solutions exist for all natural numbers $n$ with the exception of $n = 2$ and $n = 3$. An example of a solution is shown below.\n",
    "\n",
    "\n",
    "\n",
    "Iterative improvement:\n",
    "\n",
    "- Start with one queen in each column;\n",
    "- Move a queen to reduce number of conflicts.\n",
    "\n",
    "Even for very large $n$ (e.g., $n = 1$ million), this usually finds a solution almost instantly.\n",
    "\n",
    "![n-Queens](img/nqueens-example.svg \"A sequence of valid moves for sliding-puzzle's navigation problem\")"
   ]
  },
  {
   "cell_type": "markdown",
   "metadata": {},
   "source": [
    "## Overview\n",
    "For this not-graded assignment, you will be implementing the n-Queens Problem using local search algorithms: **Hill Climbing**, **Hill Climbing with Random Restarts**, and **Simulated Annealing**. To solve this problem we use as heuristic the number of pairs of queens attacking each other, either directly or indirectly.\n",
    "\n",
    "We already provide you with an API for the N-Queens problem, which you can explore in [nqueens.py](nqueens.py), for which the key class we reproduce below:\n",
    "\n",
    "```python\n",
    "class SearchProblem:\n",
    "    def __init__(self, initial=None):\n",
    "        \"\"\"Creates a local search problem\n",
    "\n",
    "        Args:\n",
    "            initial (_type_, optional): an explicit initial state. Defaults to None.\n",
    "        \"\"\"\n",
    "        pass\n",
    "\n",
    "    def initial(self):\n",
    "        \"\"\"Returns the initial state of the problem\"\"\"\n",
    "        pass\n",
    "\n",
    "    def goal_test(self, state) -> bool:\n",
    "        \"\"\"Returns whether state is a goal state\n",
    "        \"\"\"\n",
    "        pass\n",
    "\n",
    "    def heuristic(self, state) -> int:\n",
    "        \"\"\"Returns the heuristic/objective value for state\"\"\"\n",
    "        pass\n",
    "\n",
    "    def nearStates(self, state) -> Collection:\n",
    "        \"\"\"Returns the set of neighbouring states to the current state\"\"\"\n",
    "        pass\n",
    "\n",
    "    def randomNearState(self, state) -> Any:\n",
    "        \"\"\"Picks a random neighbour\"\"\"\n",
    "        return choice(self.nearStates(state))\n",
    "```"
   ]
  },
  {
   "cell_type": "markdown",
   "metadata": {},
   "source": [
    "## Implementation\n",
    "Organize your implementation in an appropriate number of classes, modules and methods. At the bare minimum, you are required to implement the APIs in the three cells, below. We note that the APIs shown below are deliberately simplified to give students the maximum freedom to develop their own internal APIs and minimize coincidental similarities in implementation. "
   ]
  },
  {
   "cell_type": "markdown",
   "metadata": {},
   "source": [
    "__function__ HILL-CLIMBING(_problem_) __returns__ a state that is a local maximum  \n",
    "&emsp;_current_ &larr; _problem_.INITIAL\\-STATE  \n",
    "&emsp;__loop do__  \n",
    "&emsp;&emsp;&emsp;_neighbor_ &larr; a highest\\-valued successor of _current_  \n",
    "&emsp;&emsp;&emsp;_if_ VALUE(_neighbour_) &le; VALUE(_current_) __then return__ _current_  \n",
    "&emsp;&emsp;&emsp;_current_ &larr; _neighbor_  "
   ]
  },
  {
   "cell_type": "code",
   "execution_count": null,
   "metadata": {},
   "outputs": [],
   "source": [
    "# HILL CLIMBING \n",
    "import random\n",
    "import math\n",
    "import sys\n",
    "from random import shuffle\n",
    "from nqueens import SearchProblem\n",
    "\n",
    "def hill_climbing(problem: SearchProblem):\n",
    "    current = problem.initial()\n",
    "    # Your code here\n",
    "    \n",
    "    # End code\n",
    "    return current"
   ]
  },
  {
   "cell_type": "markdown",
   "metadata": {},
   "source": [
    "Since we might get stuck in local minima, we may improve hill climbing by wrapping our ``` hill_climbing(problem: SearchProblem)``` function in a loop that restarts the problem a fixed number of times, until we find a solution."
   ]
  },
  {
   "cell_type": "code",
   "execution_count": null,
   "metadata": {},
   "outputs": [],
   "source": [
    "# HILL CLIMBING WITH RANDOM RESTARTS\n",
    "\n",
    "def hc_random_restart(problem: SearchProblem, limit=10):\n",
    "    state = problem.initial()\n",
    "    # Your code here\n",
    "    \n",
    "    # End code\n",
    "    return state"
   ]
  },
  {
   "cell_type": "markdown",
   "metadata": {},
   "source": [
    "While random restarts might help us out of local minima, an even better solution is to systematically decrease the randomicity of our exploration of the state space using simulated annealing."
   ]
  },
  {
   "cell_type": "markdown",
   "metadata": {},
   "source": [
    "__function__ SIMULATED-ANNEALING(_problem_,_schedule_) __returns__ a solution state  \n",
    "\n",
    "&emsp;_current_ &larr; _problem_.INITIAL\\-STATE  \n",
    "&emsp;__for__ _t_ = 1 __to__ &infin;  __do__  \n",
    "&emsp;&emsp;&emsp;_T_ &larr; _schedule(t)_  \n",
    "&emsp;&emsp;&emsp;__if__ _T_ = 0 __then return__ _current_  \n",
    "&emsp;&emsp;&emsp;_next_ &larr; a randomly selected successor of _current_  \n",
    "&emsp;&emsp;&emsp;_&Delta;E_ &larr; VALUE(_next_) - VALUE(_current_)  \n",
    "&emsp;&emsp;&emsp;__if__ _&Delta;E_ > 0 __then__ _current_ &larr; _next_  \n",
    "&emsp;&emsp;&emsp;__else__ _current_ &larr; _next_ only with probability e<sup>_&Delta;E_/_T_</sup>"
   ]
  },
  {
   "cell_type": "code",
   "execution_count": null,
   "metadata": {},
   "outputs": [],
   "source": [
    "# SIMULATED ANNEALING\n",
    "\n",
    "def exp_schedule(k=4, alpha=0.001, limit=20000):\n",
    "    \"\"\"\n",
    "    Exponential temperature update\n",
    "    k: decides the size of the \"stride\" of the curve\n",
    "    alpha: defines the shape of the temperature decay\n",
    "    limit: number of iterations\n",
    "    \"\"\"\n",
    "    return lambda t: (k * math.exp(-alpha * t) if t < limit else 0)\n",
    "\n",
    "\n",
    "def simulated_annealing(problem: SearchProblem, schedule=exp_schedule()):\n",
    "    current = problem.initial()\n",
    "    # Your code here\n",
    "    \n",
    "    # End code\n",
    "    return current"
   ]
  },
  {
   "cell_type": "markdown",
   "metadata": {},
   "source": [
    "## Test your code\n",
    "\n",
    "The code below will test each of the algorithms you just implemented against our reference implementation. "
   ]
  },
  {
   "cell_type": "code",
   "execution_count": null,
   "metadata": {},
   "outputs": [],
   "source": [
    "# MAIN CLASS\n",
    "from printBoard import printBoard\n",
    "from localSearch import localSearch\n",
    "from nqueens import NQueensSearch\n",
    "\n",
    "n = 8 # problem size\n",
    "n_iterations = 10 # number of iterations\n",
    "solutions = 0 # 0: print one solution; 1: print all solutions\n",
    "\n",
    "test = localSearch()\n",
    "problem = NQueensSearch(n)\n",
    "algorithms = [hill_climbing, hc_random_restart, simulated_annealing]\n",
    "names = [\"hill_climbing\", \"hc_random_restart\", \"simulated_annealing\"]\n",
    "problems = [problem, problem, problem]\n",
    "for i in range(len(algorithms)):\n",
    "    print(names[i])\n",
    "    result_board = test.localSearch(problems[i], algorithms[i], n_iterations)\n",
    "\n",
    "    printBoard(result_board, solutions)\n"
   ]
  },
  {
   "cell_type": "markdown",
   "metadata": {},
   "source": [
    "## Comparison"
   ]
  },
  {
   "cell_type": "markdown",
   "metadata": {},
   "source": [
    "Check if your solution is working correctly using the following case:\n",
    "\n",
    "<h3>Case:</h3>\n",
    "<ul>\n",
    "    <li> n=8\n",
    "    <li> n_iterations=10\n",
    "    <li> solutions=0\n",
    "</ul>\n",
    "\n",
    "<h5>Results:</h5>"
   ]
  },
  {
   "cell_type": "markdown",
   "metadata": {},
   "source": [
    "```\n",
    "hill_climbing\n",
    " - Hit rate:  2/10\tRuntime: 0.038855\n",
    ". . . . . Q . .\n",
    ". Q . . . . . .\n",
    ". . . . . . Q .\n",
    "Q . . . . . . .\n",
    ". . Q . . . . .\n",
    ". . . . Q . . .\n",
    ". . . . . . . Q\n",
    ". . . Q . . . .\n",
    "\n",
    "\n",
    "hc_random_restart\n",
    " - Hit rate:  9/10\tRuntime: 0.196223\n",
    ". . . . . . Q .\n",
    ". Q . . . . . .\n",
    ". . . Q . . . .\n",
    "Q . . . . . . .\n",
    ". . . . . . . Q\n",
    ". . . . Q . . .\n",
    ". . Q . . . . .\n",
    ". . . . . Q . .\n",
    "\n",
    "\n",
    "simulated_annealing\n",
    " - Hit rate: 10/10\tRuntime: 0.779093\n",
    ". . . Q . . . .\n",
    ". . . . . . Q .\n",
    ". . Q . . . . .\n",
    ". . . . . . . Q\n",
    ". Q . . . . . .\n",
    ". . . . Q . . .\n",
    "Q . . . . . . .\n",
    ". . . . . Q . .\n",
    "```"
   ]
  }
 ],
 "metadata": {
  "kernelspec": {
   "display_name": "Python 3.7.13 ('base')",
   "language": "python",
   "name": "python3"
  },
  "language_info": {
   "codemirror_mode": {
    "name": "ipython",
    "version": 3
   },
   "file_extension": ".py",
   "mimetype": "text/x-python",
   "name": "python",
   "nbconvert_exporter": "python",
   "pygments_lexer": "ipython3",
   "version": "3.7.13"
  },
  "vscode": {
   "interpreter": {
    "hash": "a04fbcb04a11c3a691703ca23ae4a78f9f717b538476169d44c620972eb30c1e"
   }
  },
  "colab": {
			"provenance": [],
			"generative_ai_disabled": true
  }
 },
 
 "nbformat": 4,
 "nbformat_minor": 4
}
